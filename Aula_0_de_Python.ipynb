{
  "nbformat": 4,
  "nbformat_minor": 0,
  "metadata": {
    "colab": {
      "provenance": [],
      "authorship_tag": "ABX9TyNXR/uWQkPf4N/YaxqSP3vv",
      "include_colab_link": true
    },
    "kernelspec": {
      "name": "python3",
      "display_name": "Python 3"
    },
    "language_info": {
      "name": "python"
    }
  },
  "cells": [
    {
      "cell_type": "markdown",
      "metadata": {
        "id": "view-in-github",
        "colab_type": "text"
      },
      "source": [
        "<a href=\"https://colab.research.google.com/github/Jacll/Imersao_Alura_Python/blob/main/Aula_0_de_Python.ipynb\" target=\"_parent\"><img src=\"https://colab.research.google.com/assets/colab-badge.svg\" alt=\"Open In Colab\"/></a>"
      ]
    },
    {
      "cell_type": "code",
      "execution_count": 2,
      "metadata": {
        "colab": {
          "base_uri": "https://localhost:8080/",
          "height": 35
        },
        "id": "6IVwx2XRFkrm",
        "outputId": "5e72ba63-ee4d-4716-d451-7e010cc0e23b"
      },
      "outputs": [
        {
          "output_type": "execute_result",
          "data": {
            "text/plain": [
              "'Jacquelline Rodrigues Silva'"
            ],
            "application/vnd.google.colaboratory.intrinsic+json": {
              "type": "string"
            }
          },
          "metadata": {},
          "execution_count": 2
        }
      ],
      "source": [
        "'Jacquelline Rodrigues Silva'"
      ]
    },
    {
      "cell_type": "markdown",
      "source": [
        "`Regra 1`  \n",
        "\n",
        "   `Todas as palavras que estão sendo definadas precisam estar entre aspas ( são conhecidas como strigs ).`\n",
        "   "
      ],
      "metadata": {
        "id": "5kqOG2WjG_vi"
      }
    },
    {
      "cell_type": "code",
      "source": [
        "print('Boas vindas a aula de Python')"
      ],
      "metadata": {
        "colab": {
          "base_uri": "https://localhost:8080/"
        },
        "id": "fIgtqoDzHyS_",
        "outputId": "151c618e-e0bc-4b8b-d8e1-05c1dce89224"
      },
      "execution_count": 3,
      "outputs": [
        {
          "output_type": "stream",
          "name": "stdout",
          "text": [
            "Boas vindas a aula de Python\n"
          ]
        }
      ]
    },
    {
      "cell_type": "markdown",
      "source": [
        "`Regra 2`\n",
        "\n",
        "`Print - Quero exibir uma mensagem na tela, sequencia de palavras, etc.`"
      ],
      "metadata": {
        "id": "UPdjixmfIiiY"
      }
    },
    {
      "cell_type": "code",
      "source": [
        "nome = 'Jacquelline'\n",
        "print(nome)"
      ],
      "metadata": {
        "colab": {
          "base_uri": "https://localhost:8080/"
        },
        "id": "7NmbBoBLJ7Kx",
        "outputId": "28f06779-fe17-47c5-e633-448fef0e80c7"
      },
      "execution_count": 4,
      "outputs": [
        {
          "output_type": "stream",
          "name": "stdout",
          "text": [
            "Jacquelline\n"
          ]
        }
      ]
    },
    {
      "cell_type": "code",
      "source": [
        "cor_favorita = 'roxo'\n",
        "print(cor_favorita)"
      ],
      "metadata": {
        "colab": {
          "base_uri": "https://localhost:8080/"
        },
        "id": "jTjPd4maKIGy",
        "outputId": "340fcf0f-89e2-4cb2-c143-cd4790365f0b"
      },
      "execution_count": 5,
      "outputs": [
        {
          "output_type": "stream",
          "name": "stdout",
          "text": [
            "roxo\n"
          ]
        }
      ]
    },
    {
      "cell_type": "markdown",
      "source": [
        "`Snake Case - Conveção de nomenclatura onde palavras compostas são escritas sem espaços, substituindo por underscores(_) `"
      ],
      "metadata": {
        "id": "v-BvxQzEKbYC"
      }
    },
    {
      "cell_type": "code",
      "source": [
        "saldo = 5000\n",
        "print('Saldo disponivel na conta: R$', saldo)\n",
        "saldo = saldo + 2000\n",
        "print('Saldo somado é igual a: R$', saldo)"
      ],
      "metadata": {
        "colab": {
          "base_uri": "https://localhost:8080/"
        },
        "id": "5ybhZs3SLuQn",
        "outputId": "0baf7aec-b032-4d24-e514-a0abea150b5a"
      },
      "execution_count": 10,
      "outputs": [
        {
          "output_type": "stream",
          "name": "stdout",
          "text": [
            "Saldo disponivel na conta: R$ 5000\n",
            "Saldo somado é igual a: R$ 7000\n"
          ]
        }
      ]
    },
    {
      "cell_type": "code",
      "source": [
        "saldo = saldo - 500\n",
        "print('Saldo subtraido é igual a: R$', saldo)"
      ],
      "metadata": {
        "colab": {
          "base_uri": "https://localhost:8080/"
        },
        "id": "Yx2rCB26MXvO",
        "outputId": "388fb802-f60f-463b-c8ff-f2e2b38a9189"
      },
      "execution_count": 11,
      "outputs": [
        {
          "output_type": "stream",
          "name": "stdout",
          "text": [
            "Saldo subtraido é igual a: R$ 6500\n"
          ]
        }
      ]
    },
    {
      "cell_type": "code",
      "source": [
        "saldo = saldo * 2\n",
        "print('Saldo multiplicado é igual a: R$', saldo)"
      ],
      "metadata": {
        "colab": {
          "base_uri": "https://localhost:8080/"
        },
        "id": "KvqTM79tMhqM",
        "outputId": "94b0fe66-26fb-4c13-9151-80c7cef9de9c"
      },
      "execution_count": 12,
      "outputs": [
        {
          "output_type": "stream",
          "name": "stdout",
          "text": [
            "Saldo multiplicado é igual a: R$ 13000\n"
          ]
        }
      ]
    },
    {
      "cell_type": "code",
      "source": [
        "import this"
      ],
      "metadata": {
        "colab": {
          "base_uri": "https://localhost:8080/"
        },
        "collapsed": true,
        "id": "QCPL011JMofD",
        "outputId": "a03fe4cc-a994-4331-8145-61456c539d2f"
      },
      "execution_count": 13,
      "outputs": [
        {
          "output_type": "stream",
          "name": "stdout",
          "text": [
            "The Zen of Python, by Tim Peters\n",
            "\n",
            "Beautiful is better than ugly.\n",
            "Explicit is better than implicit.\n",
            "Simple is better than complex.\n",
            "Complex is better than complicated.\n",
            "Flat is better than nested.\n",
            "Sparse is better than dense.\n",
            "Readability counts.\n",
            "Special cases aren't special enough to break the rules.\n",
            "Although practicality beats purity.\n",
            "Errors should never pass silently.\n",
            "Unless explicitly silenced.\n",
            "In the face of ambiguity, refuse the temptation to guess.\n",
            "There should be one-- and preferably only one --obvious way to do it.\n",
            "Although that way may not be obvious at first unless you're Dutch.\n",
            "Now is better than never.\n",
            "Although never is often better than *right* now.\n",
            "If the implementation is hard to explain, it's a bad idea.\n",
            "If the implementation is easy to explain, it may be a good idea.\n",
            "Namespaces are one honking great idea -- let's do more of those!\n"
          ]
        }
      ]
    },
    {
      "cell_type": "markdown",
      "source": [
        "##Primeiro codigo Alura"
      ],
      "metadata": {
        "id": "CG6RrJKxPjNJ"
      }
    },
    {
      "cell_type": "code",
      "source": [
        "idade = int(input('Digite sua idade: '))\n",
        "print(idade)\n",
        "if idade >= 18:\n",
        "    print('Voce pode dirigir')\n",
        "else:\n",
        "    print('Voce ainda não pode dirigir')\n"
      ],
      "metadata": {
        "colab": {
          "base_uri": "https://localhost:8080/"
        },
        "id": "1e_XFm-QOKJk",
        "outputId": "c3f9d72f-0d2b-4b12-8b47-bf62498a6406"
      },
      "execution_count": 20,
      "outputs": [
        {
          "output_type": "stream",
          "name": "stdout",
          "text": [
            "Digite sua idade: 18\n",
            "18\n",
            "Voce pode dirigir\n"
          ]
        }
      ]
    }
  ]
}